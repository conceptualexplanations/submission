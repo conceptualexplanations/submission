{
 "cells": [
  {
   "cell_type": "code",
   "execution_count": 1,
   "id": "dominican-generation",
   "metadata": {},
   "outputs": [
    {
     "name": "stdout",
     "output_type": "stream",
     "text": [
      "PyTorch Version:  1.7.1+cpu\n",
      "Torchvision Version:  0.8.2+cpu\n"
     ]
    }
   ],
   "source": [
    "import torch\n",
    "import torch\n",
    "import torch.nn as nn\n",
    "import torch.optim as optim\n",
    "import numpy as np\n",
    "import torchvision\n",
    "from torchvision import datasets, models, transforms\n",
    "import matplotlib.pyplot as plt\n",
    "import time\n",
    "import os\n",
    "import shutil\n",
    "import copy\n",
    "import glob\n",
    "import random\n",
    "import PIL\n",
    "\n",
    "print(\"PyTorch Version: \",torch.__version__)\n",
    "print(\"Torchvision Version: \",torchvision.__version__)\n",
    "\n",
    "%matplotlib inline\n",
    "%load_ext autoreload\n",
    "%autoreload 2"
   ]
  },
  {
   "cell_type": "code",
   "execution_count": 2,
   "id": "north-reunion",
   "metadata": {},
   "outputs": [
    {
     "name": "stderr",
     "output_type": "stream",
     "text": [
      "Using cache found in C:\\Users\\islam/.cache\\torch\\hub\\pytorch_vision_v0.6.0\n"
     ]
    }
   ],
   "source": [
    "model_name = \"squeezenet\"\n",
    "num_classes = 1000\n",
    "batch_size = 8\n",
    "num_epochs = 5\n",
    "feature_extract = True\n",
    "\n",
    "# Initialize the model for this run\n",
    "model_ft = torch.hub.load('pytorch/vision:v0.6.0', 'squeezenet1_0', pretrained=True).eval()\n",
    "input_size = 224"
   ]
  },
  {
   "cell_type": "code",
   "execution_count": 4,
   "id": "alternative-circle",
   "metadata": {},
   "outputs": [
    {
     "name": "stdout",
     "output_type": "stream",
     "text": [
      "Initialized Datasets and Dataloaders\n"
     ]
    }
   ],
   "source": [
    "data_transforms = {\n",
    "    'val': transforms.Compose([\n",
    "        transforms.Resize(input_size),\n",
    "        transforms.CenterCrop(input_size),\n",
    "        transforms.ToTensor(),\n",
    "        transforms.Normalize([0.485, 0.456, 0.406], [0.229, 0.224, 0.225])\n",
    "    ]),\n",
    "}\n",
    "# Detect if we have a GPU available\n",
    "device = torch.device(\"cuda:0\" if torch.cuda.is_available() else \"cpu\")\n",
    "\n",
    "print(\"Initialized Datasets and Dataloaders\")"
   ]
  },
  {
   "cell_type": "markdown",
   "id": "dimensional-riverside",
   "metadata": {},
   "source": [
    "# Check Our Method"
   ]
  },
  {
   "cell_type": "code",
   "execution_count": 16,
   "id": "pediatric-outreach",
   "metadata": {},
   "outputs": [],
   "source": [
    "class SqueezenetBottom(nn.Module):\n",
    "    def __init__(self, original_model):\n",
    "        super(SqueezenetBottom, self).__init__()\n",
    "        self.features = nn.Sequential(*list(list(original_model.children())[0].children())[:15], nn.Flatten())\n",
    "        \n",
    "    def forward(self, x):\n",
    "        x = self.features(x)\n",
    "        return x\n",
    "\n",
    "class SqueezenetTop(nn.Module):\n",
    "    def __init__(self, original_model):\n",
    "        super(SqueezenetTop, self).__init__()\n",
    "        self.features = nn.Sequential(*list(original_model.children())[1])\n",
    "        \n",
    "    def forward(self, x):\n",
    "        x = x.view((-1, 512, 13, 13))\n",
    "        x = self.features(x)\n",
    "        x = x.view((-1, 1000))\n",
    "        x = nn.Softmax(dim=-1)(x)\n",
    "        return x\n",
    "\n",
    "def get_model_parts(model):    \n",
    "    model_bottom = SqueezenetBottom(model)\n",
    "    model_top = SqueezenetTop(model)\n",
    "    return model_bottom, model_top\n",
    "\n",
    "model_bottom, model_top = get_model_parts(model_ft)\n",
    "model_bottom.eval()\n",
    "model_top.eval();"
   ]
  },
  {
   "cell_type": "code",
   "execution_count": 10,
   "id": "infrared-career",
   "metadata": {},
   "outputs": [],
   "source": [
    "import pickle\n",
    "concept_dict = pickle.load(open('sq_concepts_102.pkl', 'rb'))"
   ]
  },
  {
   "cell_type": "code",
   "execution_count": 11,
   "id": "oriented-stadium",
   "metadata": {},
   "outputs": [],
   "source": [
    "import requests\n",
    "response = requests.get(\"https://git.io/JJkYN\")\n",
    "class_labels = response.text.split(\"\\n\")"
   ]
  },
  {
   "cell_type": "code",
   "execution_count": 31,
   "id": "refined-violin",
   "metadata": {},
   "outputs": [],
   "source": [
    "def get_concept_scores(image, correct_label):\n",
    "    concept_scores = {}\n",
    "    image = PIL.Image.open(image)\n",
    "    image_bg = PIL.Image.open(r\"C:\\Users\\islam\\Downloads\\black.jpg\")\n",
    "    \n",
    "    # given an image, load it\n",
    "    tensor = data_transforms[\"val\"](image).unsqueeze(0)\n",
    "#     tensor = data_transforms[\"val\"](image).unsqueeze(0)\n",
    "#     tensor_bg = data_transforms[\"val\"](image_bg).unsqueeze(0)\n",
    "        \n",
    "    # just run through and make its prediction for each concept\n",
    "    embedding = model_bottom(tensor)\n",
    "    original_preds = model_top(embedding).detach().numpy().squeeze()\n",
    "    original_labels = {class_labels[i]: float(original_preds[i]) for i in range(1000)}\n",
    "    correct_idx = class_labels.index(correct_label)\n",
    "    \n",
    "    # modify it in the concept space\n",
    "    best_diff = float(\"-inf\")\n",
    "    \n",
    "    if model_name == \"squeezenet\":\n",
    "        multiplier = 100000\n",
    "    else:\n",
    "        multiplier = 10000\n",
    "    \n",
    "    for key in concept_dict:\n",
    "        svm, _, _ = concept_dict[key]\n",
    "        # see which ones cause the most difference in the right direction one by one  \n",
    "        plus = torch.from_numpy(embedding.detach().numpy() + multiplier*svm.coef_).float()\n",
    "        plus_preds = model_top(plus)\n",
    "        plus_diff = plus_preds.squeeze()[correct_idx] - original_preds.squeeze()[correct_idx]\n",
    "        neg_preds = model_top(torch.from_numpy(embedding.detach().numpy() - multiplier*svm.coef_).float())\n",
    "        neg_diff = neg_preds.squeeze()[correct_idx] - original_preds.squeeze()[correct_idx]\n",
    "        concept_scores[key + '+'] = float(plus_diff)\n",
    "        concept_scores[key + '-'] = float(neg_diff)\n",
    "        if plus_diff > best_diff:\n",
    "            best_diff = plus_diff\n",
    "            best_preds = plus_preds.detach().numpy().squeeze()\n",
    "        if neg_diff > best_diff:\n",
    "            best_diff = neg_diff\n",
    "            best_preds = neg_preds.detach().numpy().squeeze()\n",
    "        \n",
    "    concept_scores_list = [(k, concept_scores[k]) for k in sorted(concept_scores, key=concept_scores.get, reverse=True)]\n",
    "    correct_labels = {class_labels[i]: float(best_preds[i]) for i in range(1000)}\n",
    "    \n",
    "    return concept_scores, concept_scores_list"
   ]
  },
  {
   "cell_type": "code",
   "execution_count": 54,
   "id": "automotive-performer",
   "metadata": {},
   "outputs": [],
   "source": [
    "concept_scores, concept_scores_list = get_concept_scores(r'C:\\Users\\islam\\Downloads\\zebra-water.jpg', 'zebra')"
   ]
  },
  {
   "cell_type": "code",
   "execution_count": 55,
   "id": "wooden-lincoln",
   "metadata": {},
   "outputs": [
    {
     "data": {
      "text/plain": [
       "(102, 86528)"
      ]
     },
     "execution_count": 55,
     "metadata": {},
     "output_type": "execute_result"
    }
   ],
   "source": [
    "coefs_array = [concept_dict[key][0].coef_ for key in concept_dict]\n",
    "coefs_array = np.concatenate(coefs_array)\n",
    "coefs_array.shape"
   ]
  },
  {
   "cell_type": "code",
   "execution_count": 58,
   "id": "confused-indiana",
   "metadata": {},
   "outputs": [],
   "source": [
    "from sklearn.decomposition import PCA\n",
    "from sklearn.manifold import TSNE\n",
    "\n",
    "smaller = PCA(n_components=102).fit_transform(coefs_array)\n",
    "coefs2d = TSNE(n_components=2).fit_transform(smaller)"
   ]
  },
  {
   "cell_type": "code",
   "execution_count": 59,
   "id": "white-bundle",
   "metadata": {},
   "outputs": [],
   "source": [
    "from matplotlib.font_manager import FontProperties\n",
    "font = FontProperties()\n",
    "font.set_family('serif')\n",
    "font.set_name('Arial')"
   ]
  },
  {
   "cell_type": "code",
   "execution_count": 63,
   "id": "defined-exploration",
   "metadata": {},
   "outputs": [],
   "source": [
    "key_list, score_list = zip(*concept_scores_list)\n",
    "n = int(len(key_list)/2)\n",
    "key_list = key_list[:n]\n",
    "score_list = score_list[:n]\n",
    "\n",
    "order = np.argsort(key_list)\n",
    "key_list = np.array(key_list)[order]\n",
    "score_list = np.array(score_list)[order]"
   ]
  },
  {
   "cell_type": "code",
   "execution_count": 65,
   "id": "requested-candle",
   "metadata": {},
   "outputs": [
    {
     "data": {
      "text/plain": [
       "array([ 72,  87,  92,  21,  18,  65,  30,  22,  55,  45,  44,  76,  35,\n",
       "        33,  25,  32,  47,  27,  66,  80,  89,  84,  17,  57,  74,  88,\n",
       "        36,  61,  31,  73,   4,  77,  39,  20,   1,  98,  64,  94,  49,\n",
       "        38,  46,  95,  58,  50,  24,   0,  19,  59,  12,  68,  86,  71,\n",
       "        96,  93,  23,   5,  14,  62,  15,  75,  63,  70,  41,  13,   8,\n",
       "        79,  56,  67,  53,  28,  48,  34,   9,  11,  85,  52,  10,   2,\n",
       "        83,  78,  16,  29,  42,  81,   3,   7,  54,  60,  82,  90,  97,\n",
       "        26,   6,  37,  51,  43, 100, 101,  40,  99,  69,  91], dtype=int64)"
      ]
     },
     "execution_count": 65,
     "metadata": {},
     "output_type": "execute_result"
    }
   ],
   "source": [
    "np.argsort(sizes)"
   ]
  },
  {
   "cell_type": "code",
   "execution_count": 68,
   "id": "corresponding-bermuda",
   "metadata": {},
   "outputs": [
    {
     "name": "stdout",
     "output_type": "stream",
     "text": [
      "bush\n"
     ]
    },
    {
     "data": {
      "image/png": "[encoded data removed]",
      "text/plain": [
       "<Figure size 504x648 with 1 Axes>"
      ]
     },
     "metadata": {
      "needs_background": "light"
     },
     "output_type": "display_data"
    }
   ],
   "source": [
    "# score_list = np.array(list(scores.values()))\n",
    "sizes = np.abs(score_list)*300.0\n",
    "\n",
    "fig, ax = plt.subplots(figsize=[7, 9])\n",
    "ax.scatter(*coefs2d.T, s=sizes, c=np.sign(score_list), cmap='PiYG')\n",
    "\n",
    "for i, key in enumerate(key_list):\n",
    "    if sizes[i] > 86.4:\n",
    "        key = key[:-1]\n",
    "        if key == \"bush\":\n",
    "            offset = -16\n",
    "            print(\"bush\")\n",
    "        else:\n",
    "            offset = 3\n",
    "        offset = 3\n",
    "        ax.annotate(key, (coefs2d[i, 0]+offset, coefs2d[i, 1]+6), fontsize=12, fontproperties=font)"
   ]
  },
  {
   "cell_type": "code",
   "execution_count": 70,
   "id": "gentle-neighbor",
   "metadata": {},
   "outputs": [
    {
     "data": {
      "text/plain": [
       "array(['air_conditioner+', 'air_conditioner-', 'airplane+', 'apron+',\n",
       "       'arm-', 'armchair-', 'ashcan-', 'awning+', 'back+', 'back_pillow+',\n",
       "       'bag-', 'balcony+', 'bannister+', 'base-', 'basket-',\n",
       "       'bathroom_s+', 'bathtub-', 'beak+', 'beak-', 'bed+', 'bed-',\n",
       "       'bedclothes+', 'bedroom_s-', 'bench+', 'bicycle+', 'bird-',\n",
       "       'blackness+', 'blind+', 'blotchy+', 'blueness-', 'board+', 'body+',\n",
       "       'book+', 'bookcase+', 'bottle-', 'box+', 'brick-', 'bridge+',\n",
       "       'bucket+', 'bucket-', 'building+', 'bumper+', 'bus+', 'bush+',\n",
       "       'cabinet-', 'can-', 'candlestick+', 'candlestick-', 'canopy+',\n",
       "       'cap+', 'cap-', 'car+', 'cardboard-', 'carpet-', 'cat+',\n",
       "       'ceiling-', 'ceramic-', 'chain_wheel+', 'chair+', 'chandelier-',\n",
       "       'chest_of_drawers-', 'chimney-', 'clock+', 'coach+',\n",
       "       'coffee_table-', 'computer+', 'computer-', 'counter-',\n",
       "       'countertop-', 'cow+', 'cup-', 'cushion-', 'desk+', 'desk-',\n",
       "       'dining_room_s+', 'dog+', 'door-', 'door_frame+', 'double_door+',\n",
       "       'drawer-', 'drinking_glass+', 'ear+', 'earth+', 'engine+',\n",
       "       'exhaust_hood-', 'eye+', 'eyebrow+', 'fabric+', 'fan-', 'faucet-',\n",
       "       'fence+', 'field+', 'fireplace-', 'flag+', 'floor+', 'flowerpot+',\n",
       "       'greenness+', 'polka_dots-', 'redness+', 'stripes+', 'tree+',\n",
       "       'water-'], dtype='<U17')"
      ]
     },
     "execution_count": 70,
     "metadata": {},
     "output_type": "execute_result"
    }
   ],
   "source": [
    "key_list"
   ]
  }
 ],
 "metadata": {
  "kernelspec": {
   "display_name": "Python 3",
   "language": "python",
   "name": "python3"
  },
  "language_info": {
   "codemirror_mode": {
    "name": "ipython",
    "version": 3
   },
   "file_extension": ".py",
   "mimetype": "text/x-python",
   "name": "python",
   "nbconvert_exporter": "python",
   "pygments_lexer": "ipython3",
   "version": "3.9.0"
  }
 },
 "nbformat": 4,
 "nbformat_minor": 5
}
